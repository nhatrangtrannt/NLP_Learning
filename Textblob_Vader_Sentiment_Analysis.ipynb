{
 "cells": [
  {
   "cell_type": "markdown",
   "id": "5b778b12",
   "metadata": {},
   "source": [
    "# **Sentiment Analysis using Textblob and Vader**\n",
    "## Nha Tran \n",
    "\n",
    "Main objectives:\n",
    "\n",
    "    Import library TextBlob and Vader\n",
    "    Read all the text files in the two folders pos and neg\n",
    "    Visualize data (distribution)\n",
    "    Set thresholds for classifying sentences as postive or negative\n"
   ]
  },
  {
   "cell_type": "markdown",
   "id": "a8f2eb38",
   "metadata": {},
   "source": [
    "## Textblob"
   ]
  },
  {
   "cell_type": "code",
   "execution_count": 98,
   "id": "bae543e3",
   "metadata": {},
   "outputs": [],
   "source": [
    "import os\n",
    "from textblob import TextBlob\n",
    "import seaborn as sns\n",
    "import matplotlib.pyplot as plt"
   ]
  },
  {
   "cell_type": "markdown",
   "id": "59f6652c",
   "metadata": {},
   "source": [
    "### Read files"
   ]
  },
  {
   "cell_type": "code",
   "execution_count": 69,
   "id": "61a7dfa7",
   "metadata": {},
   "outputs": [],
   "source": [
    "# Read text file Function\n",
    "def read_text(file_name):\n",
    "    count = 0\n",
    "    with open(file_name,'r') as f:  \n",
    "        data = f.read()\n",
    "        return data"
   ]
  },
  {
   "cell_type": "code",
   "execution_count": 70,
   "id": "59b62bdb",
   "metadata": {},
   "outputs": [],
   "source": [
    "# Iterate through all files Functions\n",
    "def read_folder(directory):\n",
    "    data_list = []\n",
    "    for file in os.listdir(directory):\n",
    "        # Check if file is in text \n",
    "        if file.endswith(\".txt\"):\n",
    "            file_path = f\"{directory}{file}\"\n",
    "            # Read each text file\n",
    "            data = read_text(file_path)\n",
    "            analysis = TextBlob(data)\n",
    "            data_list.append(analysis.sentiment)\n",
    "    return data_list"
   ]
  },
  {
   "cell_type": "code",
   "execution_count": 71,
   "id": "81078157",
   "metadata": {},
   "outputs": [
    {
     "name": "stdout",
     "output_type": "stream",
     "text": [
      "1000\n",
      "1000\n"
     ]
    }
   ],
   "source": [
    "# Positive text data and Negative text data\n",
    "positive = read_folder(\"txt_sentoken/pos/\")\n",
    "negative = read_folder(\"txt_sentoken/neg/\")\n",
    "print(len(positive))\n",
    "print(len(negative))"
   ]
  },
  {
   "cell_type": "code",
   "execution_count": 74,
   "id": "fecd5c27",
   "metadata": {},
   "outputs": [
    {
     "data": {
      "text/plain": [
       "Sentiment(polarity=0.2211734693877551, subjectivity=0.6448805163090879)"
      ]
     },
     "execution_count": 74,
     "metadata": {},
     "output_type": "execute_result"
    }
   ],
   "source": [
    "positive[0]"
   ]
  },
  {
   "cell_type": "code",
   "execution_count": 75,
   "id": "2102f34c",
   "metadata": {},
   "outputs": [
    {
     "data": {
      "text/plain": [
       "Sentiment(polarity=0.02624018066495944, subjectivity=0.5377913384550552)"
      ]
     },
     "execution_count": 75,
     "metadata": {},
     "output_type": "execute_result"
    }
   ],
   "source": [
    "negative[0]"
   ]
  },
  {
   "cell_type": "code",
   "execution_count": 76,
   "id": "5d0456f7",
   "metadata": {},
   "outputs": [],
   "source": [
    "# Create list of polarity score\n",
    "pos_polarity = [item.polarity for item in positive]\n",
    "neg_polarity = [item.polarity for item in negative]"
   ]
  },
  {
   "cell_type": "code",
   "execution_count": 231,
   "id": "9da45a3b",
   "metadata": {},
   "outputs": [
    {
     "data": {
      "text/plain": [
       "<AxesSubplot:>"
      ]
     },
     "execution_count": 231,
     "metadata": {},
     "output_type": "execute_result"
    },
    {
     "data": {
      "image/png": "[encoded data removed]",
      "text/plain": [
       "<Figure size 432x288 with 1 Axes>"
      ]
     },
     "metadata": {
      "needs_background": "light"
     },
     "output_type": "display_data"
    }
   ],
   "source": [
    "sns.distplot(pos_polarity, kde=False,hist_kws=dict(edgecolor=\"black\", linewidth=2), color='green')\n",
    "sns.distplot(neg_polarity, kde=False,hist_kws=dict(edgecolor=\"black\", linewidth=2), color='red')"
   ]
  },
  {
   "cell_type": "code",
   "execution_count": 77,
   "id": "ee7d1f5b",
   "metadata": {},
   "outputs": [],
   "source": [
    "# Create list of subjectivity score\n",
    "pos_sub = [item.subjectivity for item in positive]\n",
    "neg_sub = [item.subjectivity for item in negative]"
   ]
  },
  {
   "cell_type": "code",
   "execution_count": 99,
   "id": "444e6dbd",
   "metadata": {},
   "outputs": [
    {
     "data": {
      "text/plain": [
       "<AxesSubplot:>"
      ]
     },
     "execution_count": 99,
     "metadata": {},
     "output_type": "execute_result"
    },
    {
     "data": {
      "image/png": "[encoded data removed]",
      "text/plain": [
       "<Figure size 432x288 with 1 Axes>"
      ]
     },
     "metadata": {
      "needs_background": "light"
     },
     "output_type": "display_data"
    }
   ],
   "source": [
    "# Create distribution graph for positive documents (polarity and subjectivity)\n",
    "sns.distplot(pos_polarity, kde=False,hist_kws=dict(edgecolor=\"black\", linewidth=2), color='green')"
   ]
  },
  {
   "cell_type": "code",
   "execution_count": 100,
   "id": "cbe92076",
   "metadata": {},
   "outputs": [
    {
     "data": {
      "text/plain": [
       "<AxesSubplot:>"
      ]
     },
     "execution_count": 100,
     "metadata": {},
     "output_type": "execute_result"
    },
    {
     "data": {
      "image/png": "[encoded data removed]",
      "text/plain": [
       "<Figure size 432x288 with 1 Axes>"
      ]
     },
     "metadata": {
      "needs_background": "light"
     },
     "output_type": "display_data"
    }
   ],
   "source": [
    "sns.distplot(pos_sub, kde=False,hist_kws=dict(edgecolor=\"black\", linewidth=2), color='blue')"
   ]
  },
  {
   "cell_type": "code",
   "execution_count": 258,
   "id": "e25c49a2",
   "metadata": {},
   "outputs": [
    {
     "data": {
      "text/plain": [
       "<AxesSubplot:>"
      ]
     },
     "execution_count": 258,
     "metadata": {},
     "output_type": "execute_result"
    },
    {
     "data": {
      "image/png": "[encoded data removed]",
      "text/plain": [
       "<Figure size 432x288 with 1 Axes>"
      ]
     },
     "metadata": {
      "needs_background": "light"
     },
     "output_type": "display_data"
    }
   ],
   "source": [
    "# Create distribution graph for negative documents (polarity and subjectivity)\n",
    "sns.distplot(neg_polarity, kde=False,hist_kws=dict(edgecolor=\"black\", linewidth=2), color='red')"
   ]
  },
  {
   "cell_type": "code",
   "execution_count": 145,
   "id": "a7c1a145",
   "metadata": {},
   "outputs": [
    {
     "data": {
      "text/plain": [
       "<AxesSubplot:>"
      ]
     },
     "execution_count": 145,
     "metadata": {},
     "output_type": "execute_result"
    },
    {
     "data": {
      "image/png": "[encoded data removed]",
      "text/plain": [
       "<Figure size 432x288 with 1 Axes>"
      ]
     },
     "metadata": {
      "needs_background": "light"
     },
     "output_type": "display_data"
    }
   ],
   "source": [
    "sns.distplot(neg_sub, kde=False,hist_kws=dict(edgecolor=\"black\", linewidth=2), color='blue')"
   ]
  },
  {
   "cell_type": "code",
   "execution_count": 260,
   "id": "a4cf6ceb",
   "metadata": {},
   "outputs": [
    {
     "data": {
      "text/plain": [
       "<AxesSubplot:>"
      ]
     },
     "execution_count": 260,
     "metadata": {},
     "output_type": "execute_result"
    },
    {
     "data": {
      "image/png": "[encoded data removed]",
      "text/plain": [
       "<Figure size 432x288 with 1 Axes>"
      ]
     },
     "metadata": {
      "needs_background": "light"
     },
     "output_type": "display_data"
    }
   ],
   "source": [
    "sns.distplot(pos_sub, kde=False,hist_kws=dict(edgecolor=\"black\", linewidth=2), color='green')\n",
    "sns.distplot(neg_sub, kde=False,hist_kws=dict(edgecolor=\"black\", linewidth=2), color='red')"
   ]
  },
  {
   "cell_type": "markdown",
   "id": "21bf8e22",
   "metadata": {},
   "source": [
    "### Accuracy"
   ]
  },
  {
   "cell_type": "code",
   "execution_count": 272,
   "id": "11f1cb8b",
   "metadata": {},
   "outputs": [
    {
     "name": "stdout",
     "output_type": "stream",
     "text": [
      "Positive accuracy = 0.971\n",
      "Negative accuracy = 0.229\n"
     ]
    }
   ],
   "source": [
    "# Positive Accuracy with polarity threshold greater than 0 \n",
    "pos_accu = [item for item in positive if item.polarity > 0]\n",
    "print(f\"Positive accuracy = {len(pos_accu)/1000}\")\n",
    "\n",
    "# Negative Accuracy with polarity threshold less than 0 \n",
    "neg_accu = [item for item in negative if item.polarity <= 0]\n",
    "print(f\"Negative accuracy = {len(neg_accu)/1000}\")"
   ]
  },
  {
   "cell_type": "code",
   "execution_count": 262,
   "id": "027905d6",
   "metadata": {},
   "outputs": [
    {
     "name": "stdout",
     "output_type": "stream",
     "text": [
      "Positive accuracy = 0.797\n",
      "Negative accuracy = 0.668\n"
     ]
    }
   ],
   "source": [
    "# Positive Accuracy with polarity threshold greater than 0.08 and subjectivity threshold less than 0.65\n",
    "pos_accu = [item for item in positive if item.polarity > 0.08 and item.subjectivity < 0.65]\n",
    "print(f\"Positive accuracy = {len(pos_accu)/1000}\")\n",
    "\n",
    "# Negative Accuracy with polarity threshold less than 0.08 and subjectivity threshold less than 0.65\n",
    "neg_accu = [item for item in negative if item.polarity < 0.08 and item.subjectivity < 0.65]\n",
    "print(f\"Negative accuracy = {len(neg_accu)/1000}\")"
   ]
  },
  {
   "cell_type": "code",
   "execution_count": 263,
   "id": "5f5898ff",
   "metadata": {},
   "outputs": [
    {
     "name": "stdout",
     "output_type": "stream",
     "text": [
      "Positive accuracy = 0.719\n",
      "Negative accuracy = 0.773\n"
     ]
    }
   ],
   "source": [
    "# Positive Accuracy with polarity threshold greater than 0.1\n",
    "pos_accu = [item for item in positive if item.polarity > 0.1]\n",
    "print(f\"Positive accuracy = {len(pos_accu)/1000}\")\n",
    "\n",
    "# Negative Accuracy with polarity threshold less than 0.1\n",
    "neg_accu = [item for item in negative if item.polarity < 0.1]\n",
    "print(f\"Negative accuracy = {len(neg_accu)/1000}\")"
   ]
  },
  {
   "cell_type": "markdown",
   "id": "9d2c13ea",
   "metadata": {},
   "source": [
    "## **Vader**"
   ]
  },
  {
   "cell_type": "code",
   "execution_count": 153,
   "id": "030c6ef7",
   "metadata": {},
   "outputs": [],
   "source": [
    "from vaderSentiment.vaderSentiment import SentimentIntensityAnalyzer\n",
    "analyzer = SentimentIntensityAnalyzer()"
   ]
  },
  {
   "cell_type": "code",
   "execution_count": 171,
   "id": "e99a5858",
   "metadata": {},
   "outputs": [],
   "source": [
    "# Iterate through all files Functions\n",
    "def read_folder_vader(directory):\n",
    "    data_list = []\n",
    "    for file in os.listdir(directory):\n",
    "        # Check if file is in text \n",
    "        if file.endswith(\".txt\"):\n",
    "            file_path = f\"{directory}{file}\"\n",
    "            # Read each text file\n",
    "            data = read_text(file_path)\n",
    "            analysis = analyzer.polarity_scores(data)\n",
    "            #data_list.append(analysis[\"compound\"])\n",
    "            data_list.append(analysis)\n",
    "    return data_list"
   ]
  },
  {
   "cell_type": "code",
   "execution_count": 172,
   "id": "15ebca11",
   "metadata": {},
   "outputs": [],
   "source": [
    "pos = read_folder_vader(\"txt_sentoken/pos/\")\n",
    "neg = read_folder_vader(\"txt_sentoken/neg/\")"
   ]
  },
  {
   "cell_type": "markdown",
   "id": "8d9304f2",
   "metadata": {},
   "source": [
    "### **Accuracy**"
   ]
  },
  {
   "cell_type": "code",
   "execution_count": 264,
   "id": "95afdc8c",
   "metadata": {},
   "outputs": [
    {
     "name": "stdout",
     "output_type": "stream",
     "text": [
      "Positive Accuracy = 0.843\n",
      "Negative Accuracy = 0.435\n"
     ]
    }
   ],
   "source": [
    "# Positive Accuracy with compound score greater than 0 \n",
    "# Negative Accuracy with compound score less than 0 \n",
    "pos_comp = [item['compound'] for item in pos if item['compound'] > 0]\n",
    "neg_comp = [item['compound'] for item in neg if item['compound'] <= 0]\n",
    "print(f\"Positive Accuracy = {len(pos_comp)/1000}\")\n",
    "print(f\"Negative Accuracy = {len(neg_comp)/1000}\")"
   ]
  },
  {
   "cell_type": "markdown",
   "id": "9908af5d",
   "metadata": {},
   "source": [
    "### Typical threshold values are:\n",
    "\n",
    "    - positive sentiment: compound score >= 0.05\n",
    "    - neutral sentiment: (compound score > -0.05) and (compound score < 0.05)\n",
    "    - negative sentiment: compound score <= -0.05"
   ]
  },
  {
   "cell_type": "code",
   "execution_count": 269,
   "id": "39e50e39",
   "metadata": {},
   "outputs": [
    {
     "name": "stdout",
     "output_type": "stream",
     "text": [
      "Positive Accuracy = 0.843\n",
      "Negative Accuracy = 0.432\n"
     ]
    }
   ],
   "source": [
    "# Positive Accuracy with compound threshold greater than 0.05 \n",
    "# Negative Accuracy with compound threshold less than or equal 0.05 \n",
    "pos_comp_thres = [item['compound'] for item in pos if item['compound'] > 0.05]\n",
    "neg_comp_thres = [item['compound'] for item in neg if item['compound'] <= -0.05]\n",
    "print(f\"Positive Accuracy = {len(pos_comp_thres)/1000}\")\n",
    "print(f\"Negative Accuracy = {len(neg_comp_thres)/1000}\")"
   ]
  },
  {
   "cell_type": "code",
   "execution_count": 270,
   "id": "77a63419",
   "metadata": {},
   "outputs": [
    {
     "data": {
      "text/plain": [
       "<AxesSubplot:>"
      ]
     },
     "execution_count": 270,
     "metadata": {},
     "output_type": "execute_result"
    },
    {
     "data": {
      "image/png": "[encoded data removed]",
      "text/plain": [
       "<Figure size 432x288 with 1 Axes>"
      ]
     },
     "metadata": {
      "needs_background": "light"
     },
     "output_type": "display_data"
    }
   ],
   "source": [
    "# Graph distribution graph for positive score and negative score\n",
    "pos_comp_g = [item['pos'] for item in pos]\n",
    "neg_comp_g = [item['neg'] for item in neg]\n",
    "sns.distplot(pos_comp_g, kde=False,hist_kws=dict(edgecolor=\"black\", linewidth=2), color='blue')\n",
    "sns.distplot(neg_comp_g, kde=False,hist_kws=dict(edgecolor=\"black\", linewidth=2), color='red')"
   ]
  },
  {
   "cell_type": "code",
   "execution_count": 271,
   "id": "ccb669fe",
   "metadata": {
    "scrolled": true
   },
   "outputs": [
    {
     "name": "stdout",
     "output_type": "stream",
     "text": [
      "Positive Accuracy = 0.999\n",
      "Negative Accuracy = 0.999\n"
     ]
    }
   ],
   "source": [
    "# Positive Accuracy with negative score threshold less than 0.2\n",
    "# Negative Accuracy with positive score threshold less than 0.2\n",
    "pos_comp_thres = [item for item in pos if item['neg'] < 0.2]\n",
    "neg_comp_thres = [item for item in neg if item['pos'] < 0.2]\n",
    "\n",
    "print(f\"Positive Accuracy = {len(pos_comp_thres)/1000}\")\n",
    "print(f\"Negative Accuracy = {len(neg_comp_thres)/1000}\")"
   ]
  },
  {
   "cell_type": "markdown",
   "id": "ed6463cf",
   "metadata": {},
   "source": [
    "### Conclusion\n",
    "\n",
    "TextBlob returns polarity and subjectivity score while Vader returns positive score, neutral score, negative score, and compound score which is a normalized, weighted, composite score. \n",
    "\n",
    "For each library, I tried to set standardized thresholds for classifying documents.\n",
    "- **TextBlob**: I started out with setting polarity threshold greater than 0, 0.08, and 0.1 with subjectivity threshold less than 0.65 and vice versa.\n",
    "\n",
    "    The best result is when polarity threshold equals to 0.1. (Positive accuracy = 0.719 and Negative accuracy = 0.773)\n",
    "\n",
    "\n",
    "- **Vader**: I started out with setting compound score greater than 0 and 0.05 as well as positive and negative score threshold less than 0.2.\n",
    "\n",
    "    The best result is when the positive or negative score threshold less than 0.2. (Positive Accuracy = 0.999 and Negative Accuracy = 0.999)\n",
    "\n",
    "\n",
    "I also learned that Vader is better at handling the intensity in terms of punctuations and capitalization, degree modifiers, conjunctions, slangs, and emoticons."
   ]
  }
 ],
 "metadata": {
  "kernelspec": {
   "display_name": "Python 3",
   "language": "python",
   "name": "python3"
  },
  "language_info": {
   "codemirror_mode": {
    "name": "ipython",
    "version": 3
   },
   "file_extension": ".py",
   "mimetype": "text/x-python",
   "name": "python",
   "nbconvert_exporter": "python",
   "pygments_lexer": "ipython3",
   "version": "3.8.8"
  }
 },
 "nbformat": 4,
 "nbformat_minor": 5
}
