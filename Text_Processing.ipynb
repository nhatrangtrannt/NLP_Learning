{
 "cells": [
  {
   "cell_type": "markdown",
   "metadata": {
    "id": "yHMeh4uJ9o3w"
   },
   "source": [
    "# **CAP6640 - Natural Language Processing - Florida Atlantic University**\n",
    "## **Nha Tran - Z23537257** \n",
    "\n",
    "**Text Processing**\n",
    "\n",
    "Given a news article, you can choose to use any tool we mentioned in the class (e.g., NLTK, Opennlp, Textblog, Spacy, and other text processing tools). The following steps should be completed using the tool you pick:\n",
    "\n",
    "1. Detect sentences in the given news article \n",
    "2. Tokenize each sentence into words \n",
    "3. Perform Part-of-Speech (POS) on each sentence \n",
    "4. Find name entities including person’s name entities and locations \n",
    "Please include your screen shots for each of the above steps and also the results of each step in your report. Please submit your report in Canvas.\n",
    "\n"
   ]
  },
  {
   "cell_type": "markdown",
   "metadata": {
    "id": "czhzFla--KGq"
   },
   "source": [
    "# **Using nltk**"
   ]
  },
  {
   "cell_type": "code",
   "execution_count": 104,
   "metadata": {
    "colab": {
     "base_uri": "https://localhost:8080/"
    },
    "id": "d9yRIYx4OCYz",
    "outputId": "45b7d03f-957c-4aa6-e34f-8a32baead06d"
   },
   "outputs": [
    {
     "name": "stdout",
     "output_type": "stream",
     "text": [
      "[nltk_data] Downloading package punkt to /root/nltk_data...\n",
      "[nltk_data]   Package punkt is already up-to-date!\n",
      "[nltk_data] Downloading package stopwords to /root/nltk_data...\n",
      "[nltk_data]   Package stopwords is already up-to-date!\n",
      "[nltk_data] Downloading package averaged_perceptron_tagger to\n",
      "[nltk_data]     /root/nltk_data...\n",
      "[nltk_data]   Package averaged_perceptron_tagger is already up-to-\n",
      "[nltk_data]       date!\n",
      "[nltk_data] Downloading package maxent_ne_chunker to\n",
      "[nltk_data]     /root/nltk_data...\n",
      "[nltk_data]   Package maxent_ne_chunker is already up-to-date!\n",
      "[nltk_data] Downloading package words to /root/nltk_data...\n",
      "[nltk_data]   Package words is already up-to-date!\n"
     ]
    },
    {
     "data": {
      "text/plain": [
       "True"
      ]
     },
     "execution_count": 104,
     "metadata": {},
     "output_type": "execute_result"
    }
   ],
   "source": [
    "# Import libraries\n",
    "import string \n",
    "import os\n",
    "import nltk\n",
    "import spacy\n",
    "from collections import Counter\n",
    "nltk.download('punkt')\n",
    "from nltk.tokenize import sent_tokenize, word_tokenize\n",
    "from nltk.corpus import stopwords\n",
    "nltk.download('stopwords')\n",
    "from nltk.stem import PorterStemmer\n",
    "from sklearn.feature_extraction.text import TfidfVectorizer\n",
    "from sklearn.feature_extraction.text import TfidfTransformer\n",
    "from sklearn.feature_extraction.text import CountVectorizer\n",
    "from sklearn.metrics.pairwise import cosine_similarity\n",
    "from nltk.chunk import ne_chunk_sents\n",
    "from nltk.chunk import ne_chunk\n",
    "from nltk.tag import pos_tag\n",
    "nltk.download('averaged_perceptron_tagger')\n",
    "nltk.download('maxent_ne_chunker')\n",
    "nltk.download('words')\n"
   ]
  },
  {
   "cell_type": "code",
   "execution_count": 97,
   "metadata": {
    "colab": {
     "base_uri": "https://localhost:8080/"
    },
    "id": "qDYF0Haps-9W",
    "outputId": "88743fb4-0a61-4d14-a934-b01903340ba7"
   },
   "outputs": [
    {
     "name": "stdout",
     "output_type": "stream",
     "text": [
      "Anglo-French Channel Tunnel operator Eurotunnel Monday announced a deal giving its creditor banks 45.5 percent of the company in return for wiping out one billion pounds ($1.56 billion) of its debt.\n",
      "The long-awaited restructuring brings to an end months of wrangling between Eurotunnel and the 225 banks to which it owes nearly nine billion pounds ($14.1 billion).\n",
      "The deal, announced simultaneously in Paris and London, brings the company back from the brink of insolvency but leaves shareholders owning only 54.5 percent of the company.\n",
      "\"The restructuring plan provides Eurotunnel with the medium-term financial stability to allow it to consolidate its substantial commercial achievements to date and to develop its operations,\" Eurotunnel co-chairman Alastair Morton said.\n",
      "The firm was now making a profit before interest, he added.\n",
      "Although shareholders will see their interests diluted, they were offered the prospect of a brighter future after months of uncertainty while Eurotunnel wrestled to reduce crippling interest payments negotiated during the tunnel's construction.\n",
      "Eurotunnel, which has taken around half the cross-Channel market from the European ferry companies, said a strong operating performance could allow it to pay its first dividend within the next 10 years.\n",
      "French co-chairman Patrick Ponsolle said shareholders would have to be patient before they could reap the benefits of the company's success.\n",
      "He called the debt restructuring plan \"an acceptable compromise\" for holders of Eurotunnel shares.\n",
      "The company said there was still considerable work to be done to finalise and agree on the details of the plan before it can be submitted to shareholders and the full 225 bank syndicate for approval, probably early in 1997. \n",
      "Monday's announcement followed two weeks of highly secretive negotiations between Eurotunnel and its six leading banks. This was extended to the 24 \"instructing banks\" at a meeting late last week in London.\n",
      "Eurotunnel said the debt-for-equity swap would be at 130 pence, or 10.40 francs, per share. That is considerably below the level of around 160 pence widely reported before announcement of the deal, and will reduce outstanding debt of 8.7 billion pounds ($13.6 billion) by 1.0 billion ($1.56 billion).\n",
      "The company said a further 3.7 billion pounds ($5.8 billion) of debt would be converted into new financial instruments and existing shareholders would be able to participate in this issue.\n",
      "If they choose not to take up free warrants entitling them to subscribe to this, Eurotunnel said shareholders' interests may be reduced further to just over 39 percent of the company by the end of December 2003.\n",
      "Eurotunnel's shares, which were suspended last week at 113.5 pence ahead of Monday's announcement, should resume trading on Tuesday, the company said.\n",
      "\n"
     ]
    }
   ],
   "source": [
    "# Open and read the file\n",
    "file_name = 'news_article.txt'\n",
    "data_file = open(file_name, 'r')\n",
    "text = data_file.read()\n",
    "data_file.close()\n",
    "print(text)"
   ]
  },
  {
   "cell_type": "markdown",
   "metadata": {
    "id": "Vwd1mqnguXJ4"
   },
   "source": [
    "## 1. Detect sentences in the given news article"
   ]
  },
  {
   "cell_type": "code",
   "execution_count": 100,
   "metadata": {
    "colab": {
     "base_uri": "https://localhost:8080/"
    },
    "id": "daUJlci4teMS",
    "outputId": "9f5a2d94-f79a-421b-fd3d-ba4caf96bbc0"
   },
   "outputs": [
    {
     "name": "stdout",
     "output_type": "stream",
     "text": [
      "['Anglo-French Channel Tunnel operator Eurotunnel Monday announced a deal giving its creditor banks 45.5 percent of the company in return for wiping out one billion pounds ($1.56 billion) of its debt.', 'The long-awaited restructuring brings to an end months of wrangling between Eurotunnel and the 225 banks to which it owes nearly nine billion pounds ($14.1 billion).', 'The deal, announced simultaneously in Paris and London, brings the company back from the brink of insolvency but leaves shareholders owning only 54.5 percent of the company.', '\"The restructuring plan provides Eurotunnel with the medium-term financial stability to allow it to consolidate its substantial commercial achievements to date and to develop its operations,\" Eurotunnel co-chairman Alastair Morton said.', 'The firm was now making a profit before interest, he added.', \"Although shareholders will see their interests diluted, they were offered the prospect of a brighter future after months of uncertainty while Eurotunnel wrestled to reduce crippling interest payments negotiated during the tunnel's construction.\", 'Eurotunnel, which has taken around half the cross-Channel market from the European ferry companies, said a strong operating performance could allow it to pay its first dividend within the next 10 years.', \"French co-chairman Patrick Ponsolle said shareholders would have to be patient before they could reap the benefits of the company's success.\", 'He called the debt restructuring plan \"an acceptable compromise\" for holders of Eurotunnel shares.', 'The company said there was still considerable work to be done to finalise and agree on the details of the plan before it can be submitted to shareholders and the full 225 bank syndicate for approval, probably early in 1997.', \"Monday's announcement followed two weeks of highly secretive negotiations between Eurotunnel and its six leading banks.\", 'This was extended to the 24 \"instructing banks\" at a meeting late last week in London.', 'Eurotunnel said the debt-for-equity swap would be at 130 pence, or 10.40 francs, per share.', 'That is considerably below the level of around 160 pence widely reported before announcement of the deal, and will reduce outstanding debt of 8.7 billion pounds ($13.6 billion) by 1.0 billion ($1.56 billion).', 'The company said a further 3.7 billion pounds ($5.8 billion) of debt would be converted into new financial instruments and existing shareholders would be able to participate in this issue.', \"If they choose not to take up free warrants entitling them to subscribe to this, Eurotunnel said shareholders' interests may be reduced further to just over 39 percent of the company by the end of December 2003.\", \"Eurotunnel's shares, which were suspended last week at 113.5 pence ahead of Monday's announcement, should resume trading on Tuesday, the company said.\"]\n",
      "Total sentences in document: 17\n"
     ]
    }
   ],
   "source": [
    "# Tokenize Sentence \n",
    "sentences = sent_tokenize(text)\n",
    "print(sentences)\n",
    "print(f\"Total sentences in document: {len(sentences)}\")"
   ]
  },
  {
   "cell_type": "markdown",
   "metadata": {
    "id": "tLmOcCprucPQ"
   },
   "source": [
    "## 2. Tokenize each sentence into words "
   ]
  },
  {
   "cell_type": "code",
   "execution_count": 101,
   "metadata": {
    "colab": {
     "base_uri": "https://localhost:8080/"
    },
    "id": "O1DmQ9TeuVzd",
    "outputId": "fd5ea245-e2b1-4268-d75b-4a5ecb38d2b5"
   },
   "outputs": [
    {
     "name": "stdout",
     "output_type": "stream",
     "text": [
      "[['Anglo-French', 'Channel', 'Tunnel', 'operator', 'Eurotunnel', 'Monday', 'announced', 'a', 'deal', 'giving', 'its', 'creditor', 'banks', '45.5', 'percent', 'of', 'the', 'company', 'in', 'return', 'for', 'wiping', 'out', 'one', 'billion', 'pounds', '(', '$', '1.56', 'billion', ')', 'of', 'its', 'debt', '.'], ['The', 'long-awaited', 'restructuring', 'brings', 'to', 'an', 'end', 'months', 'of', 'wrangling', 'between', 'Eurotunnel', 'and', 'the', '225', 'banks', 'to', 'which', 'it', 'owes', 'nearly', 'nine', 'billion', 'pounds', '(', '$', '14.1', 'billion', ')', '.'], ['The', 'deal', ',', 'announced', 'simultaneously', 'in', 'Paris', 'and', 'London', ',', 'brings', 'the', 'company', 'back', 'from', 'the', 'brink', 'of', 'insolvency', 'but', 'leaves', 'shareholders', 'owning', 'only', '54.5', 'percent', 'of', 'the', 'company', '.'], ['``', 'The', 'restructuring', 'plan', 'provides', 'Eurotunnel', 'with', 'the', 'medium-term', 'financial', 'stability', 'to', 'allow', 'it', 'to', 'consolidate', 'its', 'substantial', 'commercial', 'achievements', 'to', 'date', 'and', 'to', 'develop', 'its', 'operations', ',', \"''\", 'Eurotunnel', 'co-chairman', 'Alastair', 'Morton', 'said', '.'], ['The', 'firm', 'was', 'now', 'making', 'a', 'profit', 'before', 'interest', ',', 'he', 'added', '.'], ['Although', 'shareholders', 'will', 'see', 'their', 'interests', 'diluted', ',', 'they', 'were', 'offered', 'the', 'prospect', 'of', 'a', 'brighter', 'future', 'after', 'months', 'of', 'uncertainty', 'while', 'Eurotunnel', 'wrestled', 'to', 'reduce', 'crippling', 'interest', 'payments', 'negotiated', 'during', 'the', 'tunnel', \"'s\", 'construction', '.'], ['Eurotunnel', ',', 'which', 'has', 'taken', 'around', 'half', 'the', 'cross-Channel', 'market', 'from', 'the', 'European', 'ferry', 'companies', ',', 'said', 'a', 'strong', 'operating', 'performance', 'could', 'allow', 'it', 'to', 'pay', 'its', 'first', 'dividend', 'within', 'the', 'next', '10', 'years', '.'], ['French', 'co-chairman', 'Patrick', 'Ponsolle', 'said', 'shareholders', 'would', 'have', 'to', 'be', 'patient', 'before', 'they', 'could', 'reap', 'the', 'benefits', 'of', 'the', 'company', \"'s\", 'success', '.'], ['He', 'called', 'the', 'debt', 'restructuring', 'plan', '``', 'an', 'acceptable', 'compromise', \"''\", 'for', 'holders', 'of', 'Eurotunnel', 'shares', '.'], ['The', 'company', 'said', 'there', 'was', 'still', 'considerable', 'work', 'to', 'be', 'done', 'to', 'finalise', 'and', 'agree', 'on', 'the', 'details', 'of', 'the', 'plan', 'before', 'it', 'can', 'be', 'submitted', 'to', 'shareholders', 'and', 'the', 'full', '225', 'bank', 'syndicate', 'for', 'approval', ',', 'probably', 'early', 'in', '1997', '.'], ['Monday', \"'s\", 'announcement', 'followed', 'two', 'weeks', 'of', 'highly', 'secretive', 'negotiations', 'between', 'Eurotunnel', 'and', 'its', 'six', 'leading', 'banks', '.'], ['This', 'was', 'extended', 'to', 'the', '24', '``', 'instructing', 'banks', \"''\", 'at', 'a', 'meeting', 'late', 'last', 'week', 'in', 'London', '.'], ['Eurotunnel', 'said', 'the', 'debt-for-equity', 'swap', 'would', 'be', 'at', '130', 'pence', ',', 'or', '10.40', 'francs', ',', 'per', 'share', '.'], ['That', 'is', 'considerably', 'below', 'the', 'level', 'of', 'around', '160', 'pence', 'widely', 'reported', 'before', 'announcement', 'of', 'the', 'deal', ',', 'and', 'will', 'reduce', 'outstanding', 'debt', 'of', '8.7', 'billion', 'pounds', '(', '$', '13.6', 'billion', ')', 'by', '1.0', 'billion', '(', '$', '1.56', 'billion', ')', '.'], ['The', 'company', 'said', 'a', 'further', '3.7', 'billion', 'pounds', '(', '$', '5.8', 'billion', ')', 'of', 'debt', 'would', 'be', 'converted', 'into', 'new', 'financial', 'instruments', 'and', 'existing', 'shareholders', 'would', 'be', 'able', 'to', 'participate', 'in', 'this', 'issue', '.'], ['If', 'they', 'choose', 'not', 'to', 'take', 'up', 'free', 'warrants', 'entitling', 'them', 'to', 'subscribe', 'to', 'this', ',', 'Eurotunnel', 'said', 'shareholders', \"'\", 'interests', 'may', 'be', 'reduced', 'further', 'to', 'just', 'over', '39', 'percent', 'of', 'the', 'company', 'by', 'the', 'end', 'of', 'December', '2003', '.'], ['Eurotunnel', \"'s\", 'shares', ',', 'which', 'were', 'suspended', 'last', 'week', 'at', '113.5', 'pence', 'ahead', 'of', 'Monday', \"'s\", 'announcement', ',', 'should', 'resume', 'trading', 'on', 'Tuesday', ',', 'the', 'company', 'said', '.']]\n"
     ]
    }
   ],
   "source": [
    "# Tokenize each sentence into words\n",
    "tokenized_sentences = [word_tokenize(sentence) for sentence in sentences]\n",
    "print(tokenized_sentences)"
   ]
  },
  {
   "cell_type": "markdown",
   "metadata": {
    "id": "OheIKG0wu8Uh"
   },
   "source": [
    "## 3. Perform Part-of-Speech (POS) on each sentence "
   ]
  },
  {
   "cell_type": "code",
   "execution_count": 102,
   "metadata": {
    "colab": {
     "base_uri": "https://localhost:8080/"
    },
    "id": "fpNi5OG1u7Vc",
    "outputId": "4cb45048-a766-4631-d37d-3db58a889670"
   },
   "outputs": [
    {
     "name": "stdout",
     "output_type": "stream",
     "text": [
      "[[('Anglo-French', 'JJ'), ('Channel', 'NNP'), ('Tunnel', 'NNP'), ('operator', 'NN'), ('Eurotunnel', 'NNP'), ('Monday', 'NNP'), ('announced', 'VBD'), ('a', 'DT'), ('deal', 'NN'), ('giving', 'VBG'), ('its', 'PRP$'), ('creditor', 'NN'), ('banks', 'NNS'), ('45.5', 'CD'), ('percent', 'NN'), ('of', 'IN'), ('the', 'DT'), ('company', 'NN'), ('in', 'IN'), ('return', 'NN'), ('for', 'IN'), ('wiping', 'VBG'), ('out', 'RP'), ('one', 'CD'), ('billion', 'CD'), ('pounds', 'NNS'), ('(', '('), ('$', '$'), ('1.56', 'CD'), ('billion', 'CD'), (')', ')'), ('of', 'IN'), ('its', 'PRP$'), ('debt', 'NN'), ('.', '.')], [('The', 'DT'), ('long-awaited', 'JJ'), ('restructuring', 'NN'), ('brings', 'NNS'), ('to', 'TO'), ('an', 'DT'), ('end', 'JJ'), ('months', 'NNS'), ('of', 'IN'), ('wrangling', 'VBG'), ('between', 'IN'), ('Eurotunnel', 'NNP'), ('and', 'CC'), ('the', 'DT'), ('225', 'CD'), ('banks', 'NNS'), ('to', 'TO'), ('which', 'WDT'), ('it', 'PRP'), ('owes', 'VBZ'), ('nearly', 'RB'), ('nine', 'CD'), ('billion', 'CD'), ('pounds', 'NNS'), ('(', '('), ('$', '$'), ('14.1', 'CD'), ('billion', 'CD'), (')', ')'), ('.', '.')], [('The', 'DT'), ('deal', 'NN'), (',', ','), ('announced', 'VBD'), ('simultaneously', 'RB'), ('in', 'IN'), ('Paris', 'NNP'), ('and', 'CC'), ('London', 'NNP'), (',', ','), ('brings', 'VBZ'), ('the', 'DT'), ('company', 'NN'), ('back', 'RB'), ('from', 'IN'), ('the', 'DT'), ('brink', 'NN'), ('of', 'IN'), ('insolvency', 'NN'), ('but', 'CC'), ('leaves', 'VBZ'), ('shareholders', 'NNS'), ('owning', 'VBG'), ('only', 'RB'), ('54.5', 'CD'), ('percent', 'NN'), ('of', 'IN'), ('the', 'DT'), ('company', 'NN'), ('.', '.')], [('``', '``'), ('The', 'DT'), ('restructuring', 'NN'), ('plan', 'NN'), ('provides', 'VBZ'), ('Eurotunnel', 'NNP'), ('with', 'IN'), ('the', 'DT'), ('medium-term', 'JJ'), ('financial', 'JJ'), ('stability', 'NN'), ('to', 'TO'), ('allow', 'VB'), ('it', 'PRP'), ('to', 'TO'), ('consolidate', 'VB'), ('its', 'PRP$'), ('substantial', 'JJ'), ('commercial', 'JJ'), ('achievements', 'NNS'), ('to', 'TO'), ('date', 'NN'), ('and', 'CC'), ('to', 'TO'), ('develop', 'VB'), ('its', 'PRP$'), ('operations', 'NNS'), (',', ','), (\"''\", \"''\"), ('Eurotunnel', 'NNP'), ('co-chairman', 'JJ'), ('Alastair', 'NNP'), ('Morton', 'NNP'), ('said', 'VBD'), ('.', '.')], [('The', 'DT'), ('firm', 'NN'), ('was', 'VBD'), ('now', 'RB'), ('making', 'VBG'), ('a', 'DT'), ('profit', 'NN'), ('before', 'IN'), ('interest', 'NN'), (',', ','), ('he', 'PRP'), ('added', 'VBD'), ('.', '.')], [('Although', 'IN'), ('shareholders', 'NNS'), ('will', 'MD'), ('see', 'VB'), ('their', 'PRP$'), ('interests', 'NNS'), ('diluted', 'VBN'), (',', ','), ('they', 'PRP'), ('were', 'VBD'), ('offered', 'VBN'), ('the', 'DT'), ('prospect', 'NN'), ('of', 'IN'), ('a', 'DT'), ('brighter', 'NN'), ('future', 'NN'), ('after', 'IN'), ('months', 'NNS'), ('of', 'IN'), ('uncertainty', 'NN'), ('while', 'IN'), ('Eurotunnel', 'NNP'), ('wrestled', 'VBD'), ('to', 'TO'), ('reduce', 'VB'), ('crippling', 'VBG'), ('interest', 'NN'), ('payments', 'NNS'), ('negotiated', 'VBN'), ('during', 'IN'), ('the', 'DT'), ('tunnel', 'NN'), (\"'s\", 'POS'), ('construction', 'NN'), ('.', '.')], [('Eurotunnel', 'NNP'), (',', ','), ('which', 'WDT'), ('has', 'VBZ'), ('taken', 'VBN'), ('around', 'IN'), ('half', 'PDT'), ('the', 'DT'), ('cross-Channel', 'JJ'), ('market', 'NN'), ('from', 'IN'), ('the', 'DT'), ('European', 'NNP'), ('ferry', 'NN'), ('companies', 'NNS'), (',', ','), ('said', 'VBD'), ('a', 'DT'), ('strong', 'JJ'), ('operating', 'NN'), ('performance', 'NN'), ('could', 'MD'), ('allow', 'VB'), ('it', 'PRP'), ('to', 'TO'), ('pay', 'VB'), ('its', 'PRP$'), ('first', 'JJ'), ('dividend', 'NN'), ('within', 'IN'), ('the', 'DT'), ('next', 'JJ'), ('10', 'CD'), ('years', 'NNS'), ('.', '.')], [('French', 'JJ'), ('co-chairman', 'JJ'), ('Patrick', 'NNP'), ('Ponsolle', 'NNP'), ('said', 'VBD'), ('shareholders', 'NNS'), ('would', 'MD'), ('have', 'VB'), ('to', 'TO'), ('be', 'VB'), ('patient', 'JJ'), ('before', 'IN'), ('they', 'PRP'), ('could', 'MD'), ('reap', 'VB'), ('the', 'DT'), ('benefits', 'NNS'), ('of', 'IN'), ('the', 'DT'), ('company', 'NN'), (\"'s\", 'POS'), ('success', 'NN'), ('.', '.')], [('He', 'PRP'), ('called', 'VBD'), ('the', 'DT'), ('debt', 'NN'), ('restructuring', 'NN'), ('plan', 'NN'), ('``', '``'), ('an', 'DT'), ('acceptable', 'JJ'), ('compromise', 'NN'), (\"''\", \"''\"), ('for', 'IN'), ('holders', 'NNS'), ('of', 'IN'), ('Eurotunnel', 'NNP'), ('shares', 'NNS'), ('.', '.')], [('The', 'DT'), ('company', 'NN'), ('said', 'VBD'), ('there', 'EX'), ('was', 'VBD'), ('still', 'RB'), ('considerable', 'JJ'), ('work', 'NN'), ('to', 'TO'), ('be', 'VB'), ('done', 'VBN'), ('to', 'TO'), ('finalise', 'VB'), ('and', 'CC'), ('agree', 'VB'), ('on', 'IN'), ('the', 'DT'), ('details', 'NNS'), ('of', 'IN'), ('the', 'DT'), ('plan', 'NN'), ('before', 'IN'), ('it', 'PRP'), ('can', 'MD'), ('be', 'VB'), ('submitted', 'VBN'), ('to', 'TO'), ('shareholders', 'NNS'), ('and', 'CC'), ('the', 'DT'), ('full', 'JJ'), ('225', 'CD'), ('bank', 'NN'), ('syndicate', 'NN'), ('for', 'IN'), ('approval', 'NN'), (',', ','), ('probably', 'RB'), ('early', 'RB'), ('in', 'IN'), ('1997', 'CD'), ('.', '.')], [('Monday', 'NNP'), (\"'s\", 'POS'), ('announcement', 'NN'), ('followed', 'VBD'), ('two', 'CD'), ('weeks', 'NNS'), ('of', 'IN'), ('highly', 'RB'), ('secretive', 'JJ'), ('negotiations', 'NNS'), ('between', 'IN'), ('Eurotunnel', 'NNP'), ('and', 'CC'), ('its', 'PRP$'), ('six', 'CD'), ('leading', 'JJ'), ('banks', 'NNS'), ('.', '.')], [('This', 'DT'), ('was', 'VBD'), ('extended', 'VBN'), ('to', 'TO'), ('the', 'DT'), ('24', 'CD'), ('``', '``'), ('instructing', 'JJ'), ('banks', 'NNS'), (\"''\", \"''\"), ('at', 'IN'), ('a', 'DT'), ('meeting', 'NN'), ('late', 'JJ'), ('last', 'JJ'), ('week', 'NN'), ('in', 'IN'), ('London', 'NNP'), ('.', '.')], [('Eurotunnel', 'NNP'), ('said', 'VBD'), ('the', 'DT'), ('debt-for-equity', 'NN'), ('swap', 'NN'), ('would', 'MD'), ('be', 'VB'), ('at', 'IN'), ('130', 'CD'), ('pence', 'NN'), (',', ','), ('or', 'CC'), ('10.40', 'CD'), ('francs', 'NNS'), (',', ','), ('per', 'IN'), ('share', 'NN'), ('.', '.')], [('That', 'DT'), ('is', 'VBZ'), ('considerably', 'RB'), ('below', 'IN'), ('the', 'DT'), ('level', 'NN'), ('of', 'IN'), ('around', 'IN'), ('160', 'CD'), ('pence', 'NN'), ('widely', 'RB'), ('reported', 'VBD'), ('before', 'IN'), ('announcement', 'NN'), ('of', 'IN'), ('the', 'DT'), ('deal', 'NN'), (',', ','), ('and', 'CC'), ('will', 'MD'), ('reduce', 'VB'), ('outstanding', 'JJ'), ('debt', 'NN'), ('of', 'IN'), ('8.7', 'CD'), ('billion', 'CD'), ('pounds', 'NNS'), ('(', '('), ('$', '$'), ('13.6', 'CD'), ('billion', 'CD'), (')', ')'), ('by', 'IN'), ('1.0', 'CD'), ('billion', 'CD'), ('(', '('), ('$', '$'), ('1.56', 'CD'), ('billion', 'CD'), (')', ')'), ('.', '.')], [('The', 'DT'), ('company', 'NN'), ('said', 'VBD'), ('a', 'DT'), ('further', 'JJ'), ('3.7', 'CD'), ('billion', 'CD'), ('pounds', 'NNS'), ('(', '('), ('$', '$'), ('5.8', 'CD'), ('billion', 'CD'), (')', ')'), ('of', 'IN'), ('debt', 'NN'), ('would', 'MD'), ('be', 'VB'), ('converted', 'VBN'), ('into', 'IN'), ('new', 'JJ'), ('financial', 'JJ'), ('instruments', 'NNS'), ('and', 'CC'), ('existing', 'VBG'), ('shareholders', 'NNS'), ('would', 'MD'), ('be', 'VB'), ('able', 'JJ'), ('to', 'TO'), ('participate', 'VB'), ('in', 'IN'), ('this', 'DT'), ('issue', 'NN'), ('.', '.')], [('If', 'IN'), ('they', 'PRP'), ('choose', 'VBP'), ('not', 'RB'), ('to', 'TO'), ('take', 'VB'), ('up', 'RP'), ('free', 'JJ'), ('warrants', 'NNS'), ('entitling', 'VBG'), ('them', 'PRP'), ('to', 'TO'), ('subscribe', 'VB'), ('to', 'TO'), ('this', 'DT'), (',', ','), ('Eurotunnel', 'NNP'), ('said', 'VBD'), ('shareholders', 'NNS'), (\"'\", 'POS'), ('interests', 'NNS'), ('may', 'MD'), ('be', 'VB'), ('reduced', 'VBN'), ('further', 'JJ'), ('to', 'TO'), ('just', 'RB'), ('over', 'IN'), ('39', 'CD'), ('percent', 'NN'), ('of', 'IN'), ('the', 'DT'), ('company', 'NN'), ('by', 'IN'), ('the', 'DT'), ('end', 'NN'), ('of', 'IN'), ('December', 'NNP'), ('2003', 'CD'), ('.', '.')], [('Eurotunnel', 'NNP'), (\"'s\", 'POS'), ('shares', 'NNS'), (',', ','), ('which', 'WDT'), ('were', 'VBD'), ('suspended', 'VBN'), ('last', 'JJ'), ('week', 'NN'), ('at', 'IN'), ('113.5', 'CD'), ('pence', 'NN'), ('ahead', 'RB'), ('of', 'IN'), ('Monday', 'NNP'), (\"'s\", 'POS'), ('announcement', 'NN'), (',', ','), ('should', 'MD'), ('resume', 'VB'), ('trading', 'VBG'), ('on', 'IN'), ('Tuesday', 'NNP'), (',', ','), ('the', 'DT'), ('company', 'NN'), ('said', 'VBD'), ('.', '.')]]\n"
     ]
    }
   ],
   "source": [
    "# POS tagging\n",
    "tagged_sentences = [nltk.pos_tag(sentence) for sentence in tokenized_sentences]\n",
    "print(tagged_sentences)"
   ]
  },
  {
   "cell_type": "markdown",
   "metadata": {
    "id": "d9etPOOyvjBj"
   },
   "source": [
    "## 4. Find name entities including person's name entities and locations"
   ]
  },
  {
   "cell_type": "code",
   "execution_count": 103,
   "metadata": {
    "colab": {
     "base_uri": "https://localhost:8080/"
    },
    "id": "WbcmaOSfvnJU",
    "outputId": "c9c1dfb6-13ba-4112-af17-4b25bb785183"
   },
   "outputs": [
    {
     "name": "stdout",
     "output_type": "stream",
     "text": [
      "['Paris', 'London', 'Alastair Morton', 'Eurotunnel', 'Eurotunnel', 'European', 'French', 'Patrick Ponsolle', 'Eurotunnel', 'London', 'Eurotunnel', 'Eurotunnel', 'Eurotunnel']\n",
      "{'Alastair Morton', 'European', 'Patrick Ponsolle', 'Eurotunnel', 'French', 'Paris', 'London'}\n"
     ]
    }
   ],
   "source": [
    "# Chunk the sentences, adds category labels such as PERSON and GPE (binary = True meansn named entities are tagged as NE)\n",
    "chunked_sentences = nltk.ne_chunk_sents(tagged_sentences, binary=False)\n",
    "\n",
    "# Check node label of the tree\n",
    "def extract_entity_names(tree):\n",
    "  entity_names = []\n",
    "  if hasattr(tree, 'label') and tree.label():\n",
    "    if tree.label() == 'GPE' or tree.label() == 'PERSON':\n",
    "      entity_names.append(' '.join([child[0] for child in tree]))\n",
    "    else:\n",
    "      # Check child node label of the tree\n",
    "      for child in tree:\n",
    "        entity_names.extend(extract_entity_names(child))\n",
    "  return entity_names\n",
    "\n",
    "# Check all the sentences \n",
    "entity = []\n",
    "for tree in chunked_sentences:\n",
    "  entity.extend(extract_entity_names(tree))\n",
    "\n",
    "# Print all the entities\n",
    "print(entity)\n",
    "# Print unique ones (using set since set won't accept duplicates)\n",
    "print(set(entity))"
   ]
  },
  {
   "cell_type": "markdown",
   "metadata": {
    "id": "NkDGgpdT0txN"
   },
   "source": [
    "# **Using spaCy**\n"
   ]
  },
  {
   "cell_type": "markdown",
   "metadata": {
    "id": "QWm-tRG64EL3"
   },
   "source": [
    "## 1. Detect sentences in the given news article"
   ]
  },
  {
   "cell_type": "code",
   "execution_count": 105,
   "metadata": {
    "colab": {
     "base_uri": "https://localhost:8080/"
    },
    "id": "rscM-wQl4D41",
    "outputId": "af7720e2-eeab-4186-eda9-36fa20f8ceee"
   },
   "outputs": [
    {
     "name": "stdout",
     "output_type": "stream",
     "text": [
      "Total sentences in document: 17\n",
      "[Anglo-French Channel Tunnel operator Eurotunnel Monday announced a deal giving its creditor banks 45.5 percent of the company in return for wiping out one billion pounds ($1.56 billion) of its debt.\n",
      ", The long-awaited restructuring brings to an end months of wrangling between Eurotunnel and the 225 banks to which it owes nearly nine billion pounds ($14.1 billion).\n",
      ", The deal, announced simultaneously in Paris and London, brings the company back from the brink of insolvency but leaves shareholders owning only 54.5 percent of the company.\n",
      ", \"The restructuring plan provides Eurotunnel with the medium-term financial stability to allow it to consolidate its substantial commercial achievements to date and to develop its operations,\" Eurotunnel co-chairman Alastair Morton said.\n",
      ", The firm was now making a profit before interest, he added.\n",
      ", Although shareholders will see their interests diluted, they were offered the prospect of a brighter future after months of uncertainty while Eurotunnel wrestled to reduce crippling interest payments negotiated during the tunnel's construction.\n",
      ", Eurotunnel, which has taken around half the cross-Channel market from the European ferry companies, said a strong operating performance could allow it to pay its first dividend within the next 10 years.\n",
      ", French co-chairman Patrick Ponsolle said shareholders would have to be patient before they could reap the benefits of the company's success.\n",
      ", He called the debt restructuring plan \"an acceptable compromise\" for holders of Eurotunnel shares.\n",
      ", The company said there was still considerable work to be done to finalise and agree on the details of the plan before it can be submitted to shareholders and the full 225 bank syndicate for approval, probably early in 1997. \n",
      ", Monday's announcement followed two weeks of highly secretive negotiations between Eurotunnel and its six leading banks., This was extended to the 24 \"instructing banks\" at a meeting late last week in London.\n",
      ", Eurotunnel said the debt-for-equity swap would be at 130 pence, or 10.40 francs, per share., That is considerably below the level of around 160 pence widely reported before announcement of the deal, and will reduce outstanding debt of 8.7 billion pounds ($13.6 billion) by 1.0 billion ($1.56 billion).\n",
      ", The company said a further 3.7 billion pounds ($5.8 billion) of debt would be converted into new financial instruments and existing shareholders would be able to participate in this issue.\n",
      ", If they choose not to take up free warrants entitling them to subscribe to this, Eurotunnel said shareholders' interests may be reduced further to just over 39 percent of the company by the end of December 2003.\n",
      ", Eurotunnel's shares, which were suspended last week at 113.5 pence ahead of Monday's announcement, should resume trading on Tuesday, the company said.\n",
      "]\n"
     ]
    }
   ],
   "source": [
    "\n",
    "\n",
    "#Load English Language Model\n",
    "nlp = spacy.load('en_core_web_sm') \n",
    "\n",
    "# Read the text\n",
    "doc = nlp(text)\n",
    "\n",
    "print(f\"Total sentences in document: {len(list(doc.sents))}\")\n",
    "print(list(doc.sents))\n"
   ]
  },
  {
   "cell_type": "markdown",
   "metadata": {
    "id": "o8YOeOx15hUt"
   },
   "source": [
    "## 2. Tokenize each sentence into words "
   ]
  },
  {
   "cell_type": "code",
   "execution_count": 109,
   "metadata": {
    "colab": {
     "base_uri": "https://localhost:8080/"
    },
    "id": "A9Ng0o1y5juv",
    "outputId": "9ab3b845-1274-47a7-e935-dbbd83583b2c"
   },
   "outputs": [
    {
     "name": "stdout",
     "output_type": "stream",
     "text": [
      "['Anglo', '-', 'French', 'Channel', 'Tunnel', 'operator', 'Eurotunnel', 'Monday', 'announced', 'a', 'deal', 'giving', 'its', 'creditor', 'banks', '45.5', 'percent', 'of', 'the', 'company', 'in', 'return', 'for', 'wiping', 'out', 'one', 'billion', 'pounds', '(', '$', '1.56', 'billion', ')', 'of', 'its', 'debt', '.', '\\n', 'The', 'long', '-', 'awaited', 'restructuring', 'brings', 'to', 'an', 'end', 'months', 'of', 'wrangling', 'between', 'Eurotunnel', 'and', 'the', '225', 'banks', 'to', 'which', 'it', 'owes', 'nearly', 'nine', 'billion', 'pounds', '(', '$', '14.1', 'billion', ')', '.', '\\n', 'The', 'deal', ',', 'announced', 'simultaneously', 'in', 'Paris', 'and', 'London', ',', 'brings', 'the', 'company', 'back', 'from', 'the', 'brink', 'of', 'insolvency', 'but', 'leaves', 'shareholders', 'owning', 'only', '54.5', 'percent', 'of', 'the', 'company', '.', '\\n', '\"', 'The', 'restructuring', 'plan', 'provides', 'Eurotunnel', 'with', 'the', 'medium', '-', 'term', 'financial', 'stability', 'to', 'allow', 'it', 'to', 'consolidate', 'its', 'substantial', 'commercial', 'achievements', 'to', 'date', 'and', 'to', 'develop', 'its', 'operations', ',', '\"', 'Eurotunnel', 'co', '-', 'chairman', 'Alastair', 'Morton', 'said', '.', '\\n', 'The', 'firm', 'was', 'now', 'making', 'a', 'profit', 'before', 'interest', ',', 'he', 'added', '.', '\\n', 'Although', 'shareholders', 'will', 'see', 'their', 'interests', 'diluted', ',', 'they', 'were', 'offered', 'the', 'prospect', 'of', 'a', 'brighter', 'future', 'after', 'months', 'of', 'uncertainty', 'while', 'Eurotunnel', 'wrestled', 'to', 'reduce', 'crippling', 'interest', 'payments', 'negotiated', 'during', 'the', 'tunnel', \"'s\", 'construction', '.', '\\n', 'Eurotunnel', ',', 'which', 'has', 'taken', 'around', 'half', 'the', 'cross', '-', 'Channel', 'market', 'from', 'the', 'European', 'ferry', 'companies', ',', 'said', 'a', 'strong', 'operating', 'performance', 'could', 'allow', 'it', 'to', 'pay', 'its', 'first', 'dividend', 'within', 'the', 'next', '10', 'years', '.', '\\n', 'French', 'co', '-', 'chairman', 'Patrick', 'Ponsolle', 'said', 'shareholders', 'would', 'have', 'to', 'be', 'patient', 'before', 'they', 'could', 'reap', 'the', 'benefits', 'of', 'the', 'company', \"'s\", 'success', '.', '\\n', 'He', 'called', 'the', 'debt', 'restructuring', 'plan', '\"', 'an', 'acceptable', 'compromise', '\"', 'for', 'holders', 'of', 'Eurotunnel', 'shares', '.', '\\n', 'The', 'company', 'said', 'there', 'was', 'still', 'considerable', 'work', 'to', 'be', 'done', 'to', 'finalise', 'and', 'agree', 'on', 'the', 'details', 'of', 'the', 'plan', 'before', 'it', 'can', 'be', 'submitted', 'to', 'shareholders', 'and', 'the', 'full', '225', 'bank', 'syndicate', 'for', 'approval', ',', 'probably', 'early', 'in', '1997', '.', '\\n', 'Monday', \"'s\", 'announcement', 'followed', 'two', 'weeks', 'of', 'highly', 'secretive', 'negotiations', 'between', 'Eurotunnel', 'and', 'its', 'six', 'leading', 'banks', '.', 'This', 'was', 'extended', 'to', 'the', '24', '\"', 'instructing', 'banks', '\"', 'at', 'a', 'meeting', 'late', 'last', 'week', 'in', 'London', '.', '\\n', 'Eurotunnel', 'said', 'the', 'debt', '-', 'for', '-', 'equity', 'swap', 'would', 'be', 'at', '130', 'pence', ',', 'or', '10.40', 'francs', ',', 'per', 'share', '.', 'That', 'is', 'considerably', 'below', 'the', 'level', 'of', 'around', '160', 'pence', 'widely', 'reported', 'before', 'announcement', 'of', 'the', 'deal', ',', 'and', 'will', 'reduce', 'outstanding', 'debt', 'of', '8.7', 'billion', 'pounds', '(', '$', '13.6', 'billion', ')', 'by', '1.0', 'billion', '(', '$', '1.56', 'billion', ')', '.', '\\n', 'The', 'company', 'said', 'a', 'further', '3.7', 'billion', 'pounds', '(', '$', '5.8', 'billion', ')', 'of', 'debt', 'would', 'be', 'converted', 'into', 'new', 'financial', 'instruments', 'and', 'existing', 'shareholders', 'would', 'be', 'able', 'to', 'participate', 'in', 'this', 'issue', '.', '\\n', 'If', 'they', 'choose', 'not', 'to', 'take', 'up', 'free', 'warrants', 'entitling', 'them', 'to', 'subscribe', 'to', 'this', ',', 'Eurotunnel', 'said', 'shareholders', \"'\", 'interests', 'may', 'be', 'reduced', 'further', 'to', 'just', 'over', '39', 'percent', 'of', 'the', 'company', 'by', 'the', 'end', 'of', 'December', '2003', '.', '\\n', 'Eurotunnel', \"'s\", 'shares', ',', 'which', 'were', 'suspended', 'last', 'week', 'at', '113.5', 'pence', 'ahead', 'of', 'Monday', \"'s\", 'announcement', ',', 'should', 'resume', 'trading', 'on', 'Tuesday', ',', 'the', 'company', 'said', '.', '\\n']\n"
     ]
    }
   ],
   "source": [
    "# Tokenize each sentence into words\n",
    "words = [word.text for word in doc]\n",
    "print(words)\n"
   ]
  },
  {
   "cell_type": "markdown",
   "metadata": {
    "id": "ah2zHF825__S"
   },
   "source": [
    "## 3. Perform Part-of-Speech (POS) on each sentence "
   ]
  },
  {
   "cell_type": "code",
   "execution_count": 119,
   "metadata": {
    "colab": {
     "base_uri": "https://localhost:8080/"
    },
    "id": "tE6DGG8M6B-N",
    "outputId": "670f5caf-acd8-473d-b6ef-835de0564b2e"
   },
   "outputs": [
    {
     "name": "stdout",
     "output_type": "stream",
     "text": [
      "Anglo ADJ\n",
      "- PUNCT\n",
      "French ADJ\n",
      "Channel PROPN\n",
      "Tunnel PROPN\n",
      "operator NOUN\n",
      "Eurotunnel PROPN\n",
      "Monday PROPN\n",
      "announced VERB\n",
      "a DET\n",
      "deal NOUN\n",
      "giving VERB\n",
      "its DET\n",
      "creditor NOUN\n",
      "banks NOUN\n",
      "45.5 NUM\n",
      "percent NOUN\n",
      "of ADP\n",
      "the DET\n",
      "company NOUN\n",
      "in ADP\n",
      "return NOUN\n",
      "for ADP\n",
      "wiping VERB\n",
      "out ADP\n",
      "one NUM\n",
      "billion NUM\n",
      "pounds NOUN\n",
      "( PUNCT\n",
      "$ SYM\n",
      "1.56 NUM\n",
      "billion NUM\n",
      ") PUNCT\n",
      "of ADP\n",
      "its DET\n",
      "debt NOUN\n",
      ". PUNCT\n",
      "\n",
      " SPACE\n",
      "The DET\n",
      "long ADV\n",
      "- PUNCT\n",
      "awaited VERB\n",
      "restructuring NOUN\n",
      "brings VERB\n",
      "to ADP\n",
      "an DET\n",
      "end NOUN\n",
      "months NOUN\n",
      "of ADP\n",
      "wrangling VERB\n",
      "between ADP\n",
      "Eurotunnel PROPN\n",
      "and CCONJ\n",
      "the DET\n",
      "225 NUM\n",
      "banks NOUN\n",
      "to PART\n",
      "which DET\n",
      "it PRON\n",
      "owes VERB\n",
      "nearly ADV\n",
      "nine NUM\n",
      "billion NUM\n",
      "pounds NOUN\n",
      "( PUNCT\n",
      "$ SYM\n",
      "14.1 NUM\n",
      "billion NUM\n",
      ") PUNCT\n",
      ". PUNCT\n",
      "\n",
      " SPACE\n",
      "The DET\n",
      "deal NOUN\n",
      ", PUNCT\n",
      "announced VERB\n",
      "simultaneously ADV\n",
      "in ADP\n",
      "Paris PROPN\n",
      "and CCONJ\n",
      "London PROPN\n",
      ", PUNCT\n",
      "brings VERB\n",
      "the DET\n",
      "company NOUN\n",
      "back ADV\n",
      "from ADP\n",
      "the DET\n",
      "brink NOUN\n",
      "of ADP\n",
      "insolvency NOUN\n",
      "but CCONJ\n",
      "leaves VERB\n",
      "shareholders NOUN\n",
      "owning VERB\n",
      "only ADV\n",
      "54.5 NUM\n",
      "percent NOUN\n",
      "of ADP\n",
      "the DET\n",
      "company NOUN\n",
      ". PUNCT\n",
      "\n",
      " SPACE\n",
      "\" PUNCT\n",
      "The DET\n",
      "restructuring NOUN\n",
      "plan NOUN\n",
      "provides VERB\n",
      "Eurotunnel PROPN\n",
      "with ADP\n",
      "the DET\n",
      "medium ADJ\n",
      "- PUNCT\n",
      "term NOUN\n",
      "financial ADJ\n",
      "stability NOUN\n",
      "to PART\n",
      "allow VERB\n",
      "it PRON\n",
      "to PART\n",
      "consolidate VERB\n",
      "its DET\n",
      "substantial ADJ\n",
      "commercial ADJ\n",
      "achievements NOUN\n",
      "to ADP\n",
      "date NOUN\n",
      "and CCONJ\n",
      "to PART\n",
      "develop VERB\n",
      "its DET\n",
      "operations NOUN\n",
      ", PUNCT\n",
      "\" PUNCT\n",
      "Eurotunnel PROPN\n",
      "co NOUN\n",
      "- NOUN\n",
      "chairman NOUN\n",
      "Alastair PROPN\n",
      "Morton PROPN\n",
      "said VERB\n",
      ". PUNCT\n",
      "\n",
      " SPACE\n",
      "The DET\n",
      "firm NOUN\n",
      "was AUX\n",
      "now ADV\n",
      "making VERB\n",
      "a DET\n",
      "profit NOUN\n",
      "before ADP\n",
      "interest NOUN\n",
      ", PUNCT\n",
      "he PRON\n",
      "added VERB\n",
      ". PUNCT\n",
      "\n",
      " SPACE\n",
      "Although SCONJ\n",
      "shareholders NOUN\n",
      "will VERB\n",
      "see VERB\n",
      "their DET\n",
      "interests NOUN\n",
      "diluted VERB\n",
      ", PUNCT\n",
      "they PRON\n",
      "were AUX\n",
      "offered VERB\n",
      "the DET\n",
      "prospect NOUN\n",
      "of ADP\n",
      "a DET\n",
      "brighter ADJ\n",
      "future NOUN\n",
      "after ADP\n",
      "months NOUN\n",
      "of ADP\n",
      "uncertainty NOUN\n",
      "while SCONJ\n",
      "Eurotunnel PROPN\n",
      "wrestled VERB\n",
      "to PART\n",
      "reduce VERB\n",
      "crippling ADJ\n",
      "interest NOUN\n",
      "payments NOUN\n",
      "negotiated VERB\n",
      "during ADP\n",
      "the DET\n",
      "tunnel NOUN\n",
      "'s PART\n",
      "construction NOUN\n",
      ". PUNCT\n",
      "\n",
      " SPACE\n",
      "Eurotunnel PROPN\n",
      ", PUNCT\n",
      "which DET\n",
      "has AUX\n",
      "taken VERB\n",
      "around ADP\n",
      "half DET\n",
      "the DET\n",
      "cross ADJ\n",
      "- ADJ\n",
      "Channel ADJ\n",
      "market NOUN\n",
      "from ADP\n",
      "the DET\n",
      "European ADJ\n",
      "ferry NOUN\n",
      "companies NOUN\n",
      ", PUNCT\n",
      "said VERB\n",
      "a DET\n",
      "strong ADJ\n",
      "operating NOUN\n",
      "performance NOUN\n",
      "could VERB\n",
      "allow VERB\n",
      "it PRON\n",
      "to PART\n",
      "pay VERB\n",
      "its DET\n",
      "first ADJ\n",
      "dividend NOUN\n",
      "within ADP\n",
      "the DET\n",
      "next ADJ\n",
      "10 NUM\n",
      "years NOUN\n",
      ". PUNCT\n",
      "\n",
      " SPACE\n",
      "French PROPN\n",
      "co NOUN\n",
      "- NOUN\n",
      "chairman NOUN\n",
      "Patrick PROPN\n",
      "Ponsolle PROPN\n",
      "said VERB\n",
      "shareholders NOUN\n",
      "would VERB\n",
      "have AUX\n",
      "to PART\n",
      "be AUX\n",
      "patient ADJ\n",
      "before ADP\n",
      "they PRON\n",
      "could VERB\n",
      "reap VERB\n",
      "the DET\n",
      "benefits NOUN\n",
      "of ADP\n",
      "the DET\n",
      "company NOUN\n",
      "'s PART\n",
      "success NOUN\n",
      ". PUNCT\n",
      "\n",
      " SPACE\n",
      "He PRON\n",
      "called VERB\n",
      "the DET\n",
      "debt NOUN\n",
      "restructuring NOUN\n",
      "plan NOUN\n",
      "\" PUNCT\n",
      "an DET\n",
      "acceptable ADJ\n",
      "compromise NOUN\n",
      "\" PUNCT\n",
      "for ADP\n",
      "holders NOUN\n",
      "of ADP\n",
      "Eurotunnel PROPN\n",
      "shares NOUN\n",
      ". PUNCT\n",
      "\n",
      " SPACE\n",
      "The DET\n",
      "company NOUN\n",
      "said VERB\n",
      "there PRON\n",
      "was AUX\n",
      "still ADV\n",
      "considerable ADJ\n",
      "work NOUN\n",
      "to PART\n",
      "be AUX\n",
      "done VERB\n",
      "to PART\n",
      "finalise VERB\n",
      "and CCONJ\n",
      "agree VERB\n",
      "on ADP\n",
      "the DET\n",
      "details NOUN\n",
      "of ADP\n",
      "the DET\n",
      "plan NOUN\n",
      "before ADP\n",
      "it PRON\n",
      "can VERB\n",
      "be AUX\n",
      "submitted VERB\n",
      "to ADP\n",
      "shareholders NOUN\n",
      "and CCONJ\n",
      "the DET\n",
      "full ADJ\n",
      "225 NUM\n",
      "bank NOUN\n",
      "syndicate NOUN\n",
      "for ADP\n",
      "approval NOUN\n",
      ", PUNCT\n",
      "probably ADV\n",
      "early ADV\n",
      "in ADP\n",
      "1997 NUM\n",
      ". PUNCT\n",
      "\n",
      " SPACE\n",
      "Monday PROPN\n",
      "'s PART\n",
      "announcement NOUN\n",
      "followed VERB\n",
      "two NUM\n",
      "weeks NOUN\n",
      "of ADP\n",
      "highly ADV\n",
      "secretive ADJ\n",
      "negotiations NOUN\n",
      "between ADP\n",
      "Eurotunnel PROPN\n",
      "and CCONJ\n",
      "its DET\n",
      "six NUM\n",
      "leading VERB\n",
      "banks NOUN\n",
      ". PUNCT\n",
      "This DET\n",
      "was AUX\n",
      "extended VERB\n",
      "to ADP\n",
      "the DET\n",
      "24 NUM\n",
      "\" PUNCT\n",
      "instructing VERB\n",
      "banks NOUN\n",
      "\" PUNCT\n",
      "at ADP\n",
      "a DET\n",
      "meeting NOUN\n",
      "late ADV\n",
      "last ADJ\n",
      "week NOUN\n",
      "in ADP\n",
      "London PROPN\n",
      ". PUNCT\n",
      "\n",
      " SPACE\n",
      "Eurotunnel PROPN\n",
      "said VERB\n",
      "the DET\n",
      "debt NOUN\n",
      "- PUNCT\n",
      "for ADP\n",
      "- PUNCT\n",
      "equity NOUN\n",
      "swap NOUN\n",
      "would VERB\n",
      "be AUX\n",
      "at ADP\n",
      "130 NUM\n",
      "pence NOUN\n",
      ", PUNCT\n",
      "or CCONJ\n",
      "10.40 NUM\n",
      "francs NOUN\n",
      ", PUNCT\n",
      "per ADP\n",
      "share NOUN\n",
      ". PUNCT\n",
      "That DET\n",
      "is AUX\n",
      "considerably ADV\n",
      "below ADP\n",
      "the DET\n",
      "level NOUN\n",
      "of ADP\n",
      "around ADP\n",
      "160 NUM\n",
      "pence NOUN\n",
      "widely ADV\n",
      "reported VERB\n",
      "before ADP\n",
      "announcement NOUN\n",
      "of ADP\n",
      "the DET\n",
      "deal NOUN\n",
      ", PUNCT\n",
      "and CCONJ\n",
      "will VERB\n",
      "reduce VERB\n",
      "outstanding ADJ\n",
      "debt NOUN\n",
      "of ADP\n",
      "8.7 NUM\n",
      "billion NUM\n",
      "pounds NOUN\n",
      "( PUNCT\n",
      "$ SYM\n",
      "13.6 NUM\n",
      "billion NUM\n",
      ") PUNCT\n",
      "by ADP\n",
      "1.0 NUM\n",
      "billion NUM\n",
      "( PUNCT\n",
      "$ SYM\n",
      "1.56 NUM\n",
      "billion NUM\n",
      ") PUNCT\n",
      ". PUNCT\n",
      "\n",
      " SPACE\n",
      "The DET\n",
      "company NOUN\n",
      "said VERB\n",
      "a DET\n",
      "further ADJ\n",
      "3.7 NUM\n",
      "billion NUM\n",
      "pounds NOUN\n",
      "( PUNCT\n",
      "$ SYM\n",
      "5.8 NUM\n",
      "billion NUM\n",
      ") PUNCT\n",
      "of ADP\n",
      "debt NOUN\n",
      "would VERB\n",
      "be AUX\n",
      "converted VERB\n",
      "into ADP\n",
      "new ADJ\n",
      "financial ADJ\n",
      "instruments NOUN\n",
      "and CCONJ\n",
      "existing VERB\n",
      "shareholders NOUN\n",
      "would VERB\n",
      "be AUX\n",
      "able ADJ\n",
      "to PART\n",
      "participate VERB\n",
      "in ADP\n",
      "this DET\n",
      "issue NOUN\n",
      ". PUNCT\n",
      "\n",
      " SPACE\n",
      "If SCONJ\n",
      "they PRON\n",
      "choose VERB\n",
      "not PART\n",
      "to PART\n",
      "take VERB\n",
      "up ADP\n",
      "free ADJ\n",
      "warrants NOUN\n",
      "entitling VERB\n",
      "them PRON\n",
      "to PART\n",
      "subscribe VERB\n",
      "to ADP\n",
      "this DET\n",
      ", PUNCT\n",
      "Eurotunnel PROPN\n",
      "said VERB\n",
      "shareholders NOUN\n",
      "' PART\n",
      "interests NOUN\n",
      "may VERB\n",
      "be AUX\n",
      "reduced VERB\n",
      "further ADV\n",
      "to PART\n",
      "just ADV\n",
      "over ADP\n",
      "39 NUM\n",
      "percent NOUN\n",
      "of ADP\n",
      "the DET\n",
      "company NOUN\n",
      "by ADP\n",
      "the DET\n",
      "end NOUN\n",
      "of ADP\n",
      "December PROPN\n",
      "2003 NUM\n",
      ". PUNCT\n",
      "\n",
      " SPACE\n",
      "Eurotunnel PROPN\n",
      "'s PART\n",
      "shares NOUN\n",
      ", PUNCT\n",
      "which DET\n",
      "were AUX\n",
      "suspended VERB\n",
      "last ADJ\n",
      "week NOUN\n",
      "at ADP\n",
      "113.5 NUM\n",
      "pence NOUN\n",
      "ahead ADV\n",
      "of ADP\n",
      "Monday PROPN\n",
      "'s PART\n",
      "announcement NOUN\n",
      ", PUNCT\n",
      "should VERB\n",
      "resume VERB\n",
      "trading VERB\n",
      "on ADP\n",
      "Tuesday PROPN\n",
      ", PUNCT\n",
      "the DET\n",
      "company NOUN\n",
      "said VERB\n",
      ". PUNCT\n",
      "\n",
      " SPACE\n"
     ]
    }
   ],
   "source": [
    "word_list = []\n",
    "pos_list = []\n",
    "for word in doc:\n",
    "  word_list.append(word)\n",
    "  pos_list.append(word.pos_)\n",
    "  print(word, word.pos_)"
   ]
  },
  {
   "cell_type": "code",
   "execution_count": 122,
   "metadata": {
    "colab": {
     "base_uri": "https://localhost:8080/"
    },
    "id": "1QuvGRKG6kRx",
    "outputId": "46ef6cf8-97e3-4a2c-e992-a6d826be2b3a"
   },
   "outputs": [
    {
     "name": "stdout",
     "output_type": "stream",
     "text": [
      "             Word    POS\n",
      "0       interests   NOUN\n",
      "1              in    ADP\n",
      "2          brings   VERB\n",
      "3    shareholders   NOUN\n",
      "4            nine    NUM\n",
      "..            ...    ...\n",
      "520          long    ADV\n",
      "521       company   NOUN\n",
      "522             \"  PUNCT\n",
      "523            on    ADP\n",
      "524             ,  PUNCT\n",
      "\n",
      "[525 rows x 2 columns]\n"
     ]
    }
   ],
   "source": [
    "# Visualize POS\n",
    "import pandas as pd\n",
    "pos_tag = list(set(zip(word_list, pos_list)))\n",
    "pos_df = pd.DataFrame(pos_tag)\n",
    "pos_df.columns = [\"Word\", \"POS\"]\n",
    "print(pos_df)"
   ]
  },
  {
   "cell_type": "markdown",
   "metadata": {
    "id": "ncdZplOr76Ps"
   },
   "source": [
    "## 4. Find name entities including person’s name entities and locations "
   ]
  },
  {
   "cell_type": "code",
   "execution_count": 125,
   "metadata": {
    "colab": {
     "base_uri": "https://localhost:8080/"
    },
    "id": "65eG6rK-79M6",
    "outputId": "36234fd5-3c4f-4bf2-9447-c7a88a8e42c3"
   },
   "outputs": [
    {
     "name": "stdout",
     "output_type": "stream",
     "text": [
      "All the labels in the document: \n",
      " {'PERSON', 'CARDINAL', 'NORP', 'GPE', 'PERCENT', 'ORG', 'ORDINAL', 'DATE', 'MONEY'}\n"
     ]
    }
   ],
   "source": [
    "# All the unique labels in the document\n",
    "labels = set([x.label_ for x in doc.ents])\n",
    "print(f\"All the labels in the document: \\n {labels}\")"
   ]
  },
  {
   "cell_type": "code",
   "execution_count": 126,
   "metadata": {
    "colab": {
     "base_uri": "https://localhost:8080/"
    },
    "id": "fhcmCjHa2-bi",
    "outputId": "80b53344-d57a-42c8-86f6-db238ecb68c2"
   },
   "outputs": [
    {
     "name": "stdout",
     "output_type": "stream",
     "text": [
      "PERSON ['Patrick Ponsolle', 'Alastair Morton']\n",
      "CARDINAL ['225', 'six', 'around half', '24']\n",
      "NORP ['French', 'European']\n",
      "GPE ['Paris', 'London', 'Eurotunnel']\n",
      "PERCENT ['45.5 percent', 'only 54.5 percent', 'just over 39 percent']\n",
      "ORG ['Anglo-French Channel Tunnel', 'Eurotunnel']\n",
      "ORDINAL ['first']\n",
      "DATE ['Monday', 'two weeks', 'an end months', 'the next 10 years', 'months', 'the end of December 2003', 'Tuesday', 'last week', 'late last week', 'early in 1997']\n",
      "MONEY ['around 160 pence', '$5.8 billion', 'nearly nine billion pounds', '130 pence', '8.7 billion pounds', '113.5 pence', 'one billion pounds', '1.0 billion', '10.40 francs', '$13.6 billion', '$1.56 billion', '$14.1 billion', '3.7 billion pounds']\n"
     ]
    }
   ],
   "source": [
    "# Print all the name entities including person's name entities and location\n",
    "for label in labels: \n",
    "    entities = [e.text for e in doc.ents if label == e.label_] \n",
    "    entities = list(set(entities)) \n",
    "    print(label,entities)"
   ]
  }
 ],
 "metadata": {
  "colab": {
   "name": "Untitled12.ipynb",
   "provenance": [],
   "toc_visible": true
  },
  "kernelspec": {
   "display_name": "Python 3",
   "language": "python",
   "name": "python3"
  },
  "language_info": {
   "codemirror_mode": {
    "name": "ipython",
    "version": 3
   },
   "file_extension": ".py",
   "mimetype": "text/x-python",
   "name": "python",
   "nbconvert_exporter": "python",
   "pygments_lexer": "ipython3",
   "version": "3.8.8"
  }
 },
 "nbformat": 4,
 "nbformat_minor": 1
}
